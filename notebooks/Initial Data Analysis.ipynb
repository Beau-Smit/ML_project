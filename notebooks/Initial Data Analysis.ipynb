{
 "cells": [
  {
   "cell_type": "code",
   "execution_count": 1,
   "id": "compliant-diving",
   "metadata": {},
   "outputs": [],
   "source": [
    "import pandas as pd\n",
    "from pathlib import Path\n",
    "import seaborn as sns"
   ]
  },
  {
   "cell_type": "code",
   "execution_count": 2,
   "id": "modular-narrow",
   "metadata": {},
   "outputs": [],
   "source": [
    "df_path = Path.cwd() / '..' / 'data' / 'nasa_global_landslide_catalog_point.csv'\n",
    "df = pd.read_csv(df_path)"
   ]
  },
  {
   "cell_type": "code",
   "execution_count": 3,
   "id": "experienced-formula",
   "metadata": {},
   "outputs": [
    {
     "data": {
      "text/html": [
       "<div>\n",
       "<style scoped>\n",
       "    .dataframe tbody tr th:only-of-type {\n",
       "        vertical-align: middle;\n",
       "    }\n",
       "\n",
       "    .dataframe tbody tr th {\n",
       "        vertical-align: top;\n",
       "    }\n",
       "\n",
       "    .dataframe thead th {\n",
       "        text-align: right;\n",
       "    }\n",
       "</style>\n",
       "<table border=\"1\" class=\"dataframe\">\n",
       "  <thead>\n",
       "    <tr style=\"text-align: right;\">\n",
       "      <th></th>\n",
       "      <th>OBJECTID</th>\n",
       "      <th>event_id</th>\n",
       "      <th>fatality_count</th>\n",
       "      <th>injury_count</th>\n",
       "      <th>latitude</th>\n",
       "      <th>longitude</th>\n",
       "      <th>gazetteer_distance</th>\n",
       "    </tr>\n",
       "  </thead>\n",
       "  <tbody>\n",
       "    <tr>\n",
       "      <th>count</th>\n",
       "      <td>1.452800e+04</td>\n",
       "      <td>14528.000000</td>\n",
       "      <td>10824.000000</td>\n",
       "      <td>6325.000000</td>\n",
       "      <td>14528.000000</td>\n",
       "      <td>14528.000000</td>\n",
       "      <td>14528.000000</td>\n",
       "    </tr>\n",
       "    <tr>\n",
       "      <th>mean</th>\n",
       "      <td>4.615276e+06</td>\n",
       "      <td>7407.879405</td>\n",
       "      <td>5.873060</td>\n",
       "      <td>1.931067</td>\n",
       "      <td>25.202561</td>\n",
       "      <td>8.829987</td>\n",
       "      <td>10.226158</td>\n",
       "    </tr>\n",
       "    <tr>\n",
       "      <th>std</th>\n",
       "      <td>4.194017e+03</td>\n",
       "      <td>4351.519095</td>\n",
       "      <td>212.323282</td>\n",
       "      <td>46.097393</td>\n",
       "      <td>19.871627</td>\n",
       "      <td>96.599244</td>\n",
       "      <td>7.234415</td>\n",
       "    </tr>\n",
       "    <tr>\n",
       "      <th>min</th>\n",
       "      <td>4.608013e+06</td>\n",
       "      <td>1.000000</td>\n",
       "      <td>0.000000</td>\n",
       "      <td>0.000000</td>\n",
       "      <td>-46.774800</td>\n",
       "      <td>-179.980766</td>\n",
       "      <td>0.000000</td>\n",
       "    </tr>\n",
       "    <tr>\n",
       "      <th>25%</th>\n",
       "      <td>4.611645e+06</td>\n",
       "      <td>3662.750000</td>\n",
       "      <td>0.000000</td>\n",
       "      <td>0.000000</td>\n",
       "      <td>12.675787</td>\n",
       "      <td>-85.237150</td>\n",
       "      <td>4.650000</td>\n",
       "    </tr>\n",
       "    <tr>\n",
       "      <th>50%</th>\n",
       "      <td>4.615276e+06</td>\n",
       "      <td>7365.500000</td>\n",
       "      <td>0.000000</td>\n",
       "      <td>0.000000</td>\n",
       "      <td>28.196650</td>\n",
       "      <td>29.588900</td>\n",
       "      <td>9.060000</td>\n",
       "    </tr>\n",
       "    <tr>\n",
       "      <th>75%</th>\n",
       "      <td>4.618908e+06</td>\n",
       "      <td>11078.250000</td>\n",
       "      <td>1.000000</td>\n",
       "      <td>0.000000</td>\n",
       "      <td>40.721492</td>\n",
       "      <td>94.689021</td>\n",
       "      <td>14.262500</td>\n",
       "    </tr>\n",
       "    <tr>\n",
       "      <th>max</th>\n",
       "      <td>4.622540e+06</td>\n",
       "      <td>19488.000000</td>\n",
       "      <td>21000.000000</td>\n",
       "      <td>2700.000000</td>\n",
       "      <td>72.627500</td>\n",
       "      <td>179.991364</td>\n",
       "      <td>57.090000</td>\n",
       "    </tr>\n",
       "  </tbody>\n",
       "</table>\n",
       "</div>"
      ],
      "text/plain": [
       "           OBJECTID      event_id  fatality_count  injury_count      latitude  \\\n",
       "count  1.452800e+04  14528.000000    10824.000000   6325.000000  14528.000000   \n",
       "mean   4.615276e+06   7407.879405        5.873060      1.931067     25.202561   \n",
       "std    4.194017e+03   4351.519095      212.323282     46.097393     19.871627   \n",
       "min    4.608013e+06      1.000000        0.000000      0.000000    -46.774800   \n",
       "25%    4.611645e+06   3662.750000        0.000000      0.000000     12.675787   \n",
       "50%    4.615276e+06   7365.500000        0.000000      0.000000     28.196650   \n",
       "75%    4.618908e+06  11078.250000        1.000000      0.000000     40.721492   \n",
       "max    4.622540e+06  19488.000000    21000.000000   2700.000000     72.627500   \n",
       "\n",
       "          longitude  gazetteer_distance  \n",
       "count  14528.000000        14528.000000  \n",
       "mean       8.829987           10.226158  \n",
       "std       96.599244            7.234415  \n",
       "min     -179.980766            0.000000  \n",
       "25%      -85.237150            4.650000  \n",
       "50%       29.588900            9.060000  \n",
       "75%       94.689021           14.262500  \n",
       "max      179.991364           57.090000  "
      ]
     },
     "execution_count": 3,
     "metadata": {},
     "output_type": "execute_result"
    }
   ],
   "source": [
    "df.describe()"
   ]
  },
  {
   "cell_type": "code",
   "execution_count": 4,
   "id": "protected-phone",
   "metadata": {},
   "outputs": [],
   "source": [
    "excluded_causes = ['earthquake', 'construction', 'mining']\n",
    "excluded_landslide_types = ['snow_avalanche']\n",
    "df = df[~(df['landslide_trigger'].isin(excluded_causes))]\n",
    "df = df[~(df['landslide_category'].isin(excluded_landslide_types))]"
   ]
  },
  {
   "cell_type": "code",
   "execution_count": 23,
   "id": "selective-fruit",
   "metadata": {},
   "outputs": [
    {
     "data": {
      "text/plain": [
       "14130"
      ]
     },
     "execution_count": 23,
     "metadata": {},
     "output_type": "execute_result"
    }
   ],
   "source": [
    "len(df)"
   ]
  },
  {
   "cell_type": "code",
   "execution_count": null,
   "id": "arbitrary-provincial",
   "metadata": {},
   "outputs": [],
   "source": []
  },
  {
   "cell_type": "code",
   "execution_count": 19,
   "id": "abstract-ranking",
   "metadata": {},
   "outputs": [
    {
     "name": "stdout",
     "output_type": "stream",
     "text": [
      "The most landslides in this dataset occurred in 1 where there have been 3934\n"
     ]
    }
   ],
   "source": []
  },
  {
   "cell_type": "code",
   "execution_count": 11,
   "id": "pressed-medium",
   "metadata": {},
   "outputs": [
    {
     "data": {
      "text/plain": [
       "1"
      ]
     },
     "execution_count": 11,
     "metadata": {},
     "output_type": "execute_result"
    }
   ],
   "source": []
  },
  {
   "cell_type": "code",
   "execution_count": null,
   "id": "opponent-graham",
   "metadata": {},
   "outputs": [],
   "source": []
  }
 ],
 "metadata": {
  "kernelspec": {
   "display_name": "momepy_env",
   "language": "python",
   "name": "momepy_env"
  },
  "language_info": {
   "codemirror_mode": {
    "name": "ipython",
    "version": 3
   },
   "file_extension": ".py",
   "mimetype": "text/x-python",
   "name": "python",
   "nbconvert_exporter": "python",
   "pygments_lexer": "ipython3",
   "version": "3.7.4"
  }
 },
 "nbformat": 4,
 "nbformat_minor": 5
}
